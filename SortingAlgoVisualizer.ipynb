{
 "cells": [
  {
   "cell_type": "code",
   "execution_count": 2,
   "id": "9b12f044",
   "metadata": {},
   "outputs": [
    {
     "name": "stdout",
     "output_type": "stream",
     "text": [
      "Requirement already satisfied: py3sort in c:\\users\\hp\\anaconda3\\lib\\site-packages (1.0.3)\n",
      "\n",
      "[notice] A new release of pip available: 22.1.2 -> 24.0\n",
      "[notice] To update, run: python.exe -m pip install --upgrade pip\n",
      "Enter no. of elements to be sorted: 5\n",
      "Choice(1:select randomly, 2:input manually): 2\n",
      "Enter 1 element: 78\n",
      "Enter 2 element: 23\n",
      "Enter 3 element: 56\n",
      "Enter 4 element: 33\n",
      "Enter 5 element: 89\n",
      "Choose Sorting Algorithm:\n",
      "{1: 'Bubble Sort', 2: 'Merge Sort', 3: 'Insertion Sort'}: 2\n"
     ]
    },
    {
     "data": {
      "image/png": "[encoded data removed]",
      "text/plain": [
       "<Figure size 432x288 with 1 Axes>"
      ]
     },
     "metadata": {
      "needs_background": "light"
     },
     "output_type": "display_data"
    }
   ],
   "source": [
    "!pip install py3sort \n",
    "from py3sort import bubble_sort, insertion_sort, merge_sort, selection_sort, heap_sort, quick_sort \n",
    "import matplotlib.pyplot as plt \n",
    "import matplotlib.animation as animation \n",
    "import sys \n",
    "import random \n",
    " \n",
    "if __name__ == '__main__': \n",
    "    ms_speed = 180   \n",
    "    li = [] \n",
    "    step_cnt = 0  \n",
    "    try: \n",
    "        N = int(input(\"Enter no. of elements to be sorted: \")) \n",
    "        choice = int(input(\"Choice(1:select randomly, 2:input manually): \")) \n",
    "        if choice == 1: \n",
    "            li = random.sample(range(0, 2*N), N)  \n",
    "        elif choice == 2: \n",
    "            for i in range(N): \n",
    "                num = input(\"Enter {} element: \".format(i+1)) \n",
    "                li.append(int(num)) \n",
    "        else: \n",
    "            sys.exit(\"Invalid input!\") \n",
    " \n",
    "        algo_dict = {1:'Bubble Sort', 2:'Merge Sort', 3:'Insertion Sort'} \n",
    "        algo = int(input('Choose Sorting Algorithm:\\n{}: '.format(algo_dict))) \n",
    "        if algo == 1: \n",
    "            generator_func = bubble_sort(li) \n",
    "        elif algo == 2: \n",
    "            generator_func = merge_sort(li) \n",
    "        elif algo == 3: \n",
    "            generator_func = insertion_sort(li)  \n",
    "        else: \n",
    "            sys.exit(\"Invalid input!\") \n",
    " \n",
    "    except Exception as e: \n",
    "        raise e \n",
    " \n",
    "    fig, ax = plt.subplots(num= 'Sorting Algorithm Visualizer') \n",
    "    ax.set_title(algo_dict[algo])\n",
    "    plt.xlabel('Elements being sorted') \n",
    "    bar_rec = ax.bar(range(len(li)), li, tick_label=li)   \n",
    "     \n",
    "    plt.text(0.015, 0.94, 'input:{}'.format(str(li)), fontsize=10, transform=plt.gcf().transFigure)  \n",
    "    step_text = plt.text(0.015, 0.90, \"\", fontsize=10, transform=plt.gcf().transFigure)  \n",
    " \n",
    "    def update_fig(li): \n",
    "        global step_cnt \n",
    "        for rect, val in zip(bar_rec, li): \n",
    "            rect.set_height(val) \n",
    "            ax.set_xticklabels(li)  \n",
    "         \n",
    "        step_cnt += 1 \n",
    "        step_text.set_text('No. of steps: {}'.format(step_cnt)) \n",
    " \n",
    "    anim = animation.FuncAnimation(fig, func=update_fig, frames=generator_func, interval=ms_speed, repeat=False) \n",
    "    plt.show()\n"
   ]
  },
  {
   "cell_type": "code",
   "execution_count": null,
   "id": "a2a8d5f1",
   "metadata": {},
   "outputs": [],
   "source": []
  }
 ],
 "metadata": {
  "kernelspec": {
   "display_name": "Python 3",
   "language": "python",
   "name": "python3"
  },
  "language_info": {
   "codemirror_mode": {
    "name": "ipython",
    "version": 3
   },
   "file_extension": ".py",
   "mimetype": "text/x-python",
   "name": "python",
   "nbconvert_exporter": "python",
   "pygments_lexer": "ipython3",
   "version": "3.8.8"
  }
 },
 "nbformat": 4,
 "nbformat_minor": 5
}
